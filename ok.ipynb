{
 "cells": [
  {
   "cell_type": "code",
   "execution_count": 2,
   "metadata": {},
   "outputs": [],
   "source": [
    "# read in responses.xlsx sheet responses\n",
    "import pandas as pd\n",
    "import random\n",
    "df = pd.read_excel('.xlsx', sheet_name='responses')\n",
    "\n",
    "# for each row, if status1 and status2 both \"dead\", set \"remaining\" to 0, if one is alive, set \"remaining\" to 1, if both alive, set \"remaining\" to 2\n",
    "df['remaining'] = df.apply(lambda row: 0 if row['status1'] == 'dead' and row['status2'] == 'dead' else 1 if row['status1'] == 'alive' or row['status2'] == 'alive' else 2, axis=1)\n",
    "\n",
    "# save to responses.xlsx sheet remaining\n",
    "df.to_excel('responses.xlsx', sheet_name='remaining', index=False)  "
   ]
  }
 ],
 "metadata": {
  "kernelspec": {
   "display_name": "Python 3",
   "language": "python",
   "name": "python3"
  },
  "language_info": {
   "codemirror_mode": {
    "name": "ipython",
    "version": 3
   },
   "file_extension": ".py",
   "mimetype": "text/x-python",
   "name": "python",
   "nbconvert_exporter": "python",
   "pygments_lexer": "ipython3",
   "version": "3.10.8"
  },
  "orig_nbformat": 4
 },
 "nbformat": 4,
 "nbformat_minor": 2
}
